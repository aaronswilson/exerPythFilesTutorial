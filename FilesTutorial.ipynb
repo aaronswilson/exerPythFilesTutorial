{
 "cells": [
  {
   "cell_type": "code",
   "execution_count": 6,
   "source": [
    "f = open('test.txt','r')"
   ],
   "outputs": [],
   "metadata": {}
  },
  {
   "cell_type": "code",
   "execution_count": 7,
   "source": [
    "f = open('test.txt','w')"
   ],
   "outputs": [],
   "metadata": {}
  },
  {
   "cell_type": "code",
   "execution_count": 8,
   "source": [
    "f = open('test.txt','a')"
   ],
   "outputs": [],
   "metadata": {}
  },
  {
   "cell_type": "code",
   "execution_count": 9,
   "source": [
    "f = open('test.txt','r+')"
   ],
   "outputs": [],
   "metadata": {}
  },
  {
   "cell_type": "code",
   "execution_count": 10,
   "source": [
    "print(f.name)"
   ],
   "outputs": [
    {
     "output_type": "stream",
     "name": "stdout",
     "text": [
      "test.txt\n"
     ]
    }
   ],
   "metadata": {}
  },
  {
   "cell_type": "code",
   "execution_count": 11,
   "source": [
    "f.close()"
   ],
   "outputs": [],
   "metadata": {}
  },
  {
   "cell_type": "code",
   "execution_count": 12,
   "source": [
    "print(f.mode)"
   ],
   "outputs": [
    {
     "output_type": "stream",
     "name": "stdout",
     "text": [
      "r+\n"
     ]
    }
   ],
   "metadata": {}
  },
  {
   "cell_type": "code",
   "execution_count": 17,
   "source": [
    "with open('test.txt','r+') as f:\r\n",
    "    pass\r\n",
    "#example of context manager"
   ],
   "outputs": [],
   "metadata": {}
  },
  {
   "cell_type": "code",
   "execution_count": 22,
   "source": [
    "with open('test.txt','r+') as f:\r\n",
    "    f_contents = f.read()\r\n",
    "    print(f_contents)"
   ],
   "outputs": [
    {
     "output_type": "stream",
     "name": "stdout",
     "text": [
      "\n"
     ]
    }
   ],
   "metadata": {}
  },
  {
   "cell_type": "code",
   "execution_count": 23,
   "source": [
    "with open('test.txt','r+') as f:\r\n",
    "    f_contents = f.readlines()\r\n",
    "    print(f_contents)"
   ],
   "outputs": [
    {
     "output_type": "stream",
     "name": "stdout",
     "text": [
      "[]\n"
     ]
    }
   ],
   "metadata": {}
  },
  {
   "cell_type": "code",
   "execution_count": 24,
   "source": [
    "with open('test.txt','r+') as f:\r\n",
    "    f_contents = f.readline()\r\n",
    "    print(f_contents)\r\n",
    "\r\n",
    "    #reads first line/next line in file"
   ],
   "outputs": [
    {
     "output_type": "stream",
     "name": "stdout",
     "text": [
      "\n"
     ]
    }
   ],
   "metadata": {}
  },
  {
   "cell_type": "code",
   "execution_count": 28,
   "source": [
    "with open('test.txt', 'r') as f:\r\n",
    "    for line in f:\r\n",
    "        print(line, end='')"
   ],
   "outputs": [],
   "metadata": {}
  },
  {
   "cell_type": "code",
   "execution_count": 30,
   "source": [
    "with open('test.txt', 'r') as f:\r\n",
    "    f_contents = f.read(10)\r\n",
    "    print(f_contents, end='')"
   ],
   "outputs": [],
   "metadata": {}
  },
  {
   "cell_type": "code",
   "execution_count": 35,
   "source": [
    "with open('test.txt', 'r') as f:\r\n",
    "\r\n",
    "    size_to_read = 10   \r\n",
    "    f_contents = f.read(size_to_read)\r\n",
    "\r\n",
    "while len(f_contents) > 0:\r\n",
    "    print(f_contents, end='*')\r\n",
    "    f_contents = f.read(size_to_read)"
   ],
   "outputs": [],
   "metadata": {}
  },
  {
   "cell_type": "code",
   "execution_count": 39,
   "source": [
    "with open('test.txt', 'r') as f:\r\n",
    "    size_to_read = 10   \r\n",
    "    f_contents = f.read(size_to_read)\r\n",
    "    print(f_contents, end='')\r\n",
    "    f.seek(0)\r\n",
    "    f_contents = f.read(size_to_read)\r\n",
    "    print(f_contents)"
   ],
   "outputs": [
    {
     "output_type": "stream",
     "name": "stdout",
     "text": [
      "\n"
     ]
    }
   ],
   "metadata": {}
  },
  {
   "cell_type": "code",
   "execution_count": 42,
   "source": [
    "with open('test.txt', 'w') as f:\r\n",
    "    pass"
   ],
   "outputs": [],
   "metadata": {}
  },
  {
   "cell_type": "code",
   "execution_count": 46,
   "source": [
    "with open ('test.txt', 'w') as f:\r\n",
    "    f.write('test')\r\n",
    "    f.seek(1)\r\n",
    "    f.write('test')"
   ],
   "outputs": [],
   "metadata": {}
  },
  {
   "cell_type": "code",
   "execution_count": 50,
   "source": [
    "with open('test.txt', 'r') as rf:\r\n",
    "    with open('test_copy.txt', 'w') as wf:\r\n",
    "        for line in rf:\r\n",
    "            wf.write(line)"
   ],
   "outputs": [],
   "metadata": {}
  },
  {
   "cell_type": "code",
   "execution_count": 52,
   "source": [
    "with open('Delicate Arch.jpg', 'rb') as rf:\r\n",
    "    with open('Delicate Arch_copy.jpg', 'wb') as wf:\r\n",
    "        for line in rf:\r\n",
    "            wf.write(line)"
   ],
   "outputs": [],
   "metadata": {}
  },
  {
   "cell_type": "code",
   "execution_count": null,
   "source": [
    "with open('Delicate Arch.jpg', 'rb') as rf:\r\n",
    "    with open('Delicate Arch_copy.jpg', 'wb') as wf:\r\n",
    "        chunk_size = 4096\r\n",
    "        rf_chunk = rf.read(chunk_size)\r\n",
    "        while len(rf_chunk) >0:\r\n",
    "            wf.write(rf_chunk)\r\n",
    "            rf_chunk = rf.read(chunk_size)"
   ],
   "outputs": [],
   "metadata": {}
  }
 ],
 "metadata": {
  "orig_nbformat": 4,
  "language_info": {
   "name": "python",
   "version": "3.8.8",
   "mimetype": "text/x-python",
   "codemirror_mode": {
    "name": "ipython",
    "version": 3
   },
   "pygments_lexer": "ipython3",
   "nbconvert_exporter": "python",
   "file_extension": ".py"
  },
  "kernelspec": {
   "name": "python3",
   "display_name": "Python 3.8.8 64-bit ('base': conda)"
  },
  "interpreter": {
   "hash": "2a11790902704dc6bb7eb9b0cc36ba8d9bfcef8051a10a2cc2f6462a1c7ebcad"
  }
 },
 "nbformat": 4,
 "nbformat_minor": 2
}